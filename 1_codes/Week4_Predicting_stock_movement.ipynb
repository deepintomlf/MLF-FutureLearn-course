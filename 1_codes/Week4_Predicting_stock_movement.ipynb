{
 "cells": [
  {
   "cell_type": "code",
   "execution_count": 1,
   "metadata": {},
   "outputs": [
    {
     "name": "stdout",
     "output_type": "stream",
     "text": [
      "Requirement already satisfied: tensorflow in e:\\apps\\anaconda3\\envs\\ml-course\\lib\\site-packages (2.10.0)\n",
      "Requirement already satisfied: opt-einsum>=2.3.2 in e:\\apps\\anaconda3\\envs\\ml-course\\lib\\site-packages (from tensorflow) (3.3.0)\n",
      "Requirement already satisfied: protobuf<3.20,>=3.9.2 in e:\\apps\\anaconda3\\envs\\ml-course\\lib\\site-packages (from tensorflow) (3.19.6)\n",
      "Requirement already satisfied: typing-extensions>=3.6.6 in e:\\apps\\anaconda3\\envs\\ml-course\\lib\\site-packages (from tensorflow) (4.4.0)\n",
      "Requirement already satisfied: flatbuffers>=2.0 in e:\\apps\\anaconda3\\envs\\ml-course\\lib\\site-packages (from tensorflow) (22.9.24)\n",
      "Requirement already satisfied: astunparse>=1.6.0 in e:\\apps\\anaconda3\\envs\\ml-course\\lib\\site-packages (from tensorflow) (1.6.3)\n",
      "Requirement already satisfied: keras<2.11,>=2.10.0 in e:\\apps\\anaconda3\\envs\\ml-course\\lib\\site-packages (from tensorflow) (2.10.0)\n",
      "Requirement already satisfied: gast<=0.4.0,>=0.2.1 in e:\\apps\\anaconda3\\envs\\ml-course\\lib\\site-packages (from tensorflow) (0.4.0)\n",
      "Requirement already satisfied: grpcio<2.0,>=1.24.3 in e:\\apps\\anaconda3\\envs\\ml-course\\lib\\site-packages (from tensorflow) (1.49.1)\n",
      "Requirement already satisfied: tensorboard<2.11,>=2.10 in e:\\apps\\anaconda3\\envs\\ml-course\\lib\\site-packages (from tensorflow) (2.10.1)\n",
      "Requirement already satisfied: absl-py>=1.0.0 in e:\\apps\\anaconda3\\envs\\ml-course\\lib\\site-packages (from tensorflow) (1.2.0)\n",
      "Requirement already satisfied: keras-preprocessing>=1.1.1 in e:\\apps\\anaconda3\\envs\\ml-course\\lib\\site-packages (from tensorflow) (1.1.2)\n",
      "Requirement already satisfied: h5py>=2.9.0 in e:\\apps\\anaconda3\\envs\\ml-course\\lib\\site-packages (from tensorflow) (3.7.0)\n",
      "Requirement already satisfied: tensorflow-io-gcs-filesystem>=0.23.1 in e:\\apps\\anaconda3\\envs\\ml-course\\lib\\site-packages (from tensorflow) (0.27.0)\n",
      "Requirement already satisfied: wrapt>=1.11.0 in e:\\apps\\anaconda3\\envs\\ml-course\\lib\\site-packages (from tensorflow) (1.14.1)\n",
      "Requirement already satisfied: packaging in e:\\apps\\anaconda3\\envs\\ml-course\\lib\\site-packages (from tensorflow) (21.3)\n",
      "Requirement already satisfied: six>=1.12.0 in e:\\apps\\anaconda3\\envs\\ml-course\\lib\\site-packages (from tensorflow) (1.16.0)\n",
      "Requirement already satisfied: google-pasta>=0.1.1 in e:\\apps\\anaconda3\\envs\\ml-course\\lib\\site-packages (from tensorflow) (0.2.0)\n",
      "Requirement already satisfied: numpy>=1.20 in e:\\apps\\anaconda3\\envs\\ml-course\\lib\\site-packages (from tensorflow) (1.23.1)\n",
      "Requirement already satisfied: setuptools in e:\\apps\\anaconda3\\envs\\ml-course\\lib\\site-packages (from tensorflow) (63.4.1)\n",
      "Requirement already satisfied: libclang>=13.0.0 in e:\\apps\\anaconda3\\envs\\ml-course\\lib\\site-packages (from tensorflow) (14.0.6)\n",
      "Requirement already satisfied: tensorflow-estimator<2.11,>=2.10.0 in e:\\apps\\anaconda3\\envs\\ml-course\\lib\\site-packages (from tensorflow) (2.10.0)\n",
      "Requirement already satisfied: termcolor>=1.1.0 in e:\\apps\\anaconda3\\envs\\ml-course\\lib\\site-packages (from tensorflow) (2.0.1)\n",
      "Requirement already satisfied: wheel<1.0,>=0.23.0 in e:\\apps\\anaconda3\\envs\\ml-course\\lib\\site-packages (from astunparse>=1.6.0->tensorflow) (0.37.1)\n",
      "Requirement already satisfied: tensorboard-plugin-wit>=1.6.0 in e:\\apps\\anaconda3\\envs\\ml-course\\lib\\site-packages (from tensorboard<2.11,>=2.10->tensorflow) (1.8.1)\n",
      "Requirement already satisfied: markdown>=2.6.8 in e:\\apps\\anaconda3\\envs\\ml-course\\lib\\site-packages (from tensorboard<2.11,>=2.10->tensorflow) (3.4.1)\n",
      "Requirement already satisfied: werkzeug>=1.0.1 in e:\\apps\\anaconda3\\envs\\ml-course\\lib\\site-packages (from tensorboard<2.11,>=2.10->tensorflow) (2.2.2)\n",
      "Requirement already satisfied: requests<3,>=2.21.0 in e:\\apps\\anaconda3\\envs\\ml-course\\lib\\site-packages (from tensorboard<2.11,>=2.10->tensorflow) (2.28.1)\n",
      "Requirement already satisfied: tensorboard-data-server<0.7.0,>=0.6.0 in e:\\apps\\anaconda3\\envs\\ml-course\\lib\\site-packages (from tensorboard<2.11,>=2.10->tensorflow) (0.6.1)\n",
      "Requirement already satisfied: google-auth<3,>=1.6.3 in e:\\apps\\anaconda3\\envs\\ml-course\\lib\\site-packages (from tensorboard<2.11,>=2.10->tensorflow) (2.12.0)\n",
      "Requirement already satisfied: google-auth-oauthlib<0.5,>=0.4.1 in e:\\apps\\anaconda3\\envs\\ml-course\\lib\\site-packages (from tensorboard<2.11,>=2.10->tensorflow) (0.4.6)\n",
      "Requirement already satisfied: pyparsing!=3.0.5,>=2.0.2 in e:\\apps\\anaconda3\\envs\\ml-course\\lib\\site-packages (from packaging->tensorflow) (3.0.9)\n",
      "Requirement already satisfied: cachetools<6.0,>=2.0.0 in e:\\apps\\anaconda3\\envs\\ml-course\\lib\\site-packages (from google-auth<3,>=1.6.3->tensorboard<2.11,>=2.10->tensorflow) (5.2.0)\n",
      "Requirement already satisfied: rsa<5,>=3.1.4 in e:\\apps\\anaconda3\\envs\\ml-course\\lib\\site-packages (from google-auth<3,>=1.6.3->tensorboard<2.11,>=2.10->tensorflow) (4.9)\n",
      "Requirement already satisfied: pyasn1-modules>=0.2.1 in e:\\apps\\anaconda3\\envs\\ml-course\\lib\\site-packages (from google-auth<3,>=1.6.3->tensorboard<2.11,>=2.10->tensorflow) (0.2.8)\n",
      "Requirement already satisfied: requests-oauthlib>=0.7.0 in e:\\apps\\anaconda3\\envs\\ml-course\\lib\\site-packages (from google-auth-oauthlib<0.5,>=0.4.1->tensorboard<2.11,>=2.10->tensorflow) (1.3.1)\n",
      "Requirement already satisfied: importlib-metadata>=4.4 in e:\\apps\\anaconda3\\envs\\ml-course\\lib\\site-packages (from markdown>=2.6.8->tensorboard<2.11,>=2.10->tensorflow) (5.0.0)\n",
      "Requirement already satisfied: urllib3<1.27,>=1.21.1 in e:\\apps\\anaconda3\\envs\\ml-course\\lib\\site-packages (from requests<3,>=2.21.0->tensorboard<2.11,>=2.10->tensorflow) (1.26.12)\n",
      "Requirement already satisfied: idna<4,>=2.5 in e:\\apps\\anaconda3\\envs\\ml-course\\lib\\site-packages (from requests<3,>=2.21.0->tensorboard<2.11,>=2.10->tensorflow) (3.4)\n",
      "Requirement already satisfied: certifi>=2017.4.17 in e:\\apps\\anaconda3\\envs\\ml-course\\lib\\site-packages (from requests<3,>=2.21.0->tensorboard<2.11,>=2.10->tensorflow) (2022.9.24)\n",
      "Requirement already satisfied: charset-normalizer<3,>=2 in e:\\apps\\anaconda3\\envs\\ml-course\\lib\\site-packages (from requests<3,>=2.21.0->tensorboard<2.11,>=2.10->tensorflow) (2.1.1)\n",
      "Requirement already satisfied: MarkupSafe>=2.1.1 in e:\\apps\\anaconda3\\envs\\ml-course\\lib\\site-packages (from werkzeug>=1.0.1->tensorboard<2.11,>=2.10->tensorflow) (2.1.1)\n",
      "Requirement already satisfied: zipp>=0.5 in e:\\apps\\anaconda3\\envs\\ml-course\\lib\\site-packages (from importlib-metadata>=4.4->markdown>=2.6.8->tensorboard<2.11,>=2.10->tensorflow) (3.9.0)\n",
      "Requirement already satisfied: pyasn1<0.5.0,>=0.4.6 in e:\\apps\\anaconda3\\envs\\ml-course\\lib\\site-packages (from pyasn1-modules>=0.2.1->google-auth<3,>=1.6.3->tensorboard<2.11,>=2.10->tensorflow) (0.4.8)\n",
      "Requirement already satisfied: oauthlib>=3.0.0 in e:\\apps\\anaconda3\\envs\\ml-course\\lib\\site-packages (from requests-oauthlib>=0.7.0->google-auth-oauthlib<0.5,>=0.4.1->tensorboard<2.11,>=2.10->tensorflow) (3.2.1)\n"
     ]
    }
   ],
   "source": [
    "!pip install tensorflow"
   ]
  },
  {
   "cell_type": "code",
   "execution_count": 2,
   "metadata": {},
   "outputs": [],
   "source": [
    "import tensorflow as tf\n",
    "from tensorflow.keras.models import Sequential\n",
    "from tensorflow.keras.layers import LSTM, Embedding, Dense\n",
    "\n",
    "nodes=10\n",
    "dropout=0.15\n",
    "input_shape=[10, 40]\n",
    "model = Sequential()\n",
    "\n",
    "model.add(LSTM(nodes, dropout=dropout, input_shape=input_shape, use_bias=True))\n",
    "model.add(Dense(10, activation='relu' , use_bias=True))\n",
    "model.add(Dense(2, activation ='softmax', use_bias=True))"
   ]
  },
  {
   "cell_type": "code",
   "execution_count": 3,
   "metadata": {},
   "outputs": [
    {
     "name": "stdout",
     "output_type": "stream",
     "text": [
      "Model: \"sequential\"\n",
      "_________________________________________________________________\n",
      " Layer (type)                Output Shape              Param #   \n",
      "=================================================================\n",
      " lstm (LSTM)                 (None, 10)                2040      \n",
      "                                                                 \n",
      " dense (Dense)               (None, 10)                110       \n",
      "                                                                 \n",
      " dense_1 (Dense)             (None, 2)                 22        \n",
      "                                                                 \n",
      "=================================================================\n",
      "Total params: 2,172\n",
      "Trainable params: 2,172\n",
      "Non-trainable params: 0\n",
      "_________________________________________________________________\n"
     ]
    }
   ],
   "source": [
    "model.summary()"
   ]
  },
  {
   "cell_type": "code",
   "execution_count": 4,
   "metadata": {},
   "outputs": [],
   "source": [
    "model = Sequential()\n",
    "model.add(LSTM(nodes, dropout=dropout, input_shape=input_shape, use_bias=True, return_sequences=True))\n",
    "model.add(LSTM(nodes, dropout=dropout, use_bias=True, return_sequences=True))\n",
    "model.add(Dense(10, activation='relu' , use_bias=True))\n",
    "model.add(Dense(2, activation ='softmax', use_bias=True))"
   ]
  },
  {
   "cell_type": "code",
   "execution_count": 5,
   "metadata": {},
   "outputs": [
    {
     "name": "stdout",
     "output_type": "stream",
     "text": [
      "Model: \"sequential_1\"\n",
      "_________________________________________________________________\n",
      " Layer (type)                Output Shape              Param #   \n",
      "=================================================================\n",
      " lstm_1 (LSTM)               (None, 10, 10)            2040      \n",
      "                                                                 \n",
      " lstm_2 (LSTM)               (None, 10, 10)            840       \n",
      "                                                                 \n",
      " dense_2 (Dense)             (None, 10, 10)            110       \n",
      "                                                                 \n",
      " dense_3 (Dense)             (None, 10, 2)             22        \n",
      "                                                                 \n",
      "=================================================================\n",
      "Total params: 3,012\n",
      "Trainable params: 3,012\n",
      "Non-trainable params: 0\n",
      "_________________________________________________________________\n"
     ]
    }
   ],
   "source": [
    "model.summary()"
   ]
  },
  {
   "cell_type": "code",
   "execution_count": null,
   "metadata": {},
   "outputs": [],
   "source": []
  }
 ],
 "metadata": {
  "kernelspec": {
   "display_name": "Python 3.8.13 ('ml-course')",
   "language": "python",
   "name": "python3"
  },
  "language_info": {
   "codemirror_mode": {
    "name": "ipython",
    "version": 3
   },
   "file_extension": ".py",
   "mimetype": "text/x-python",
   "name": "python",
   "nbconvert_exporter": "python",
   "pygments_lexer": "ipython3",
   "version": "3.8.13"
  },
  "orig_nbformat": 4,
  "vscode": {
   "interpreter": {
    "hash": "1b2e8f08f10ccb2059b9b9c06bc5b2877bd5e22af1b3b675b272329bd68bdcbc"
   }
  }
 },
 "nbformat": 4,
 "nbformat_minor": 2
}
